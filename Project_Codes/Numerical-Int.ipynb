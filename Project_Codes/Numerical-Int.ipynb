{
 "cells": [
  {
   "cell_type": "markdown",
   "metadata": {},
   "source": [
    "# Numerical Integration"
   ]
  },
  {
   "cell_type": "markdown",
   "metadata": {},
   "source": [
    "Our general rule for numerical integration is\n",
    "$$\n",
    "\\int_a^b f(x)\\,\\mathrm{d}x \\approx (b-a)\\sum_{i=1}^N w_if(x_i)\n",
    "$$\n",
    "for suitable weights $w_i$ and places $x_i$ to evaluate the function. For the trapezoid and Simpson's rule calculations, the $x_i$ must be evenly spaced; we'll denote the spacing between them by $h$. Then the input to our python function will be a numpy array `d` containing $f(x_i)$. We will need to calculate a suitable weighting array `w` containing the $w_i$ values. Since array multiplication is componentwise, we can then simply calculate `d*w`. The sum is easily evaluated using the Python built-in `sum` function.\n",
    "\n",
    "For the trapezoid rule, the weights array should be\n",
    "$$\n",
    "w = \\tfrac1N\\times(\\tfrac12, 1, 1, \\dots, 1, \\tfrac12).\n",
    "$$\n",
    "Rewriting the integral in a more convenient form, we have\n",
    "$$\n",
    "\\int_a^b f(x)\\,\\mathrm{d}x \\approx h\\sum_{i=1}^N v_if(x_i)\n",
    "$$\n",
    "with\n",
    "$$\n",
    "v = (\\tfrac12, 1, 1, \\dots, 1, \\tfrac12).\n",
    "$$\n",
    "\n",
    "To compute the integral in this way we will need to construct the weighting arrays."
   ]
  },
  {
   "cell_type": "code",
   "execution_count": 14,
   "metadata": {},
   "outputs": [],
   "source": [
    "import numpy as np\n",
    "from numpy import ones, array, empty, zeros"
   ]
  },
  {
   "cell_type": "markdown",
   "metadata": {},
   "source": [
    "**Writing a Python function `trapezoid(d, h)` that returns the estimated integral over the points `d` (in the notation above), using the trapezoid rule.**"
   ]
  },
  {
   "cell_type": "code",
   "execution_count": 15,
   "metadata": {},
   "outputs": [],
   "source": [
    "from numpy import linspace, logspace, cos, pi, exp, sqrt"
   ]
  },
  {
   "cell_type": "code",
   "execution_count": 16,
   "metadata": {},
   "outputs": [],
   "source": [
    "def trapezoid(d, h):\n",
    "\n",
    "    npt = d.size\n",
    "    w = ones(npt)\n",
    "    w[0:] = 1\n",
    "    w[0] = 1/2\n",
    "    w[npt-1] = 1/2\n",
    "\n",
    "\n",
    "    integral = h*sum(d*w)\n",
    "    return integral"
   ]
  },
  {
   "cell_type": "markdown",
   "metadata": {},
   "source": [
    "Testing our function, we’ll calculate $\\int_0^{\\pi/2}\\cos(x)\\,\\mathrm{d}x = 1$."
   ]
  },
  {
   "cell_type": "code",
   "execution_count": 17,
   "metadata": {},
   "outputs": [
    {
     "name": "stdout",
     "output_type": "stream",
     "text": [
      "0.8414638301602779\n"
     ]
    }
   ],
   "source": [
    "x = linspace(0, 1, 100)\n",
    "y = cos(x)\n",
    "print(trapezoid(y, x[1] - x[0]))"
   ]
  },
  {
   "cell_type": "markdown",
   "metadata": {},
   "source": [
    "**Writing a loop to repeat the same calculation with the number $N$ of steps varying from $10$ to $10^7$. Reporting the error for each step size also.**"
   ]
  },
  {
   "cell_type": "code",
   "execution_count": 18,
   "metadata": {},
   "outputs": [
    {
     "name": "stdout",
     "output_type": "stream",
     "text": [
      "0.9979429863543573\n",
      "0.9999794382396076\n",
      "0.9999997943832332\n",
      "0.9999999979438344\n",
      "0.9999999999794293\n",
      "0.9999999999998086\n",
      "0.9999999999999609\n"
     ]
    },
    {
     "data": {
      "text/plain": [
       "[0.0020570136456427024,\n",
       " 2.0561760392445727e-05,\n",
       " 2.056167668351705e-07,\n",
       " 2.0561655711404114e-09,\n",
       " 2.057065628946475e-11,\n",
       " 1.91402449445377e-13,\n",
       " 3.907985046680551e-14]"
      ]
     },
     "execution_count": 18,
     "metadata": {},
     "output_type": "execute_result"
    }
   ],
   "source": [
    "err_trap = []\n",
    "\n",
    "for N in (logspace(1,7,7)+1).astype(int):\n",
    "    x = linspace(0, pi/2, N)\n",
    "    y = cos(x)\n",
    "    err_trap.append(abs(1-trapezoid(y, x[1] - x[0])))\n",
    "    print(trapezoid(y, x[1] - x[0]))\n",
    "    \n",
    "err_trap"
   ]
  },
  {
   "cell_type": "markdown",
   "metadata": {},
   "source": [
    "For Simpson’s rule, on the other hand, the weights array should be\n",
    "$$\n",
    "v = \\tfrac13\\times(1, 4, 2, 4, 2, \\dots, 4, 2, 4, 1).\n",
    "$$\n",
    "\n",
    "**Writing a Python function `simpson(d, h)` that works in the same way to calculate an integral using Simpson’s rule.**\n",
    "\n",
    "Note that because Simpson's rule combines contributions from adjacent intervals it must be used with an even number of intervals (and the minimum number of intervals is 2).  In terms of points, Simpson's rule must use an odd number of points (>3)."
   ]
  },
  {
   "cell_type": "code",
   "execution_count": 19,
   "metadata": {},
   "outputs": [],
   "source": [
    "def simpson(d, h):\n",
    "    npt = d.size\n",
    "    w = ones(npt)\n",
    "    w[0::2] = 2\n",
    "    w[1::2] = 4\n",
    "    w[0] = 1\n",
    "    w[npt-1] = 1\n",
    "    w = w/3\n",
    "    integral = h*sum(d*w)\n",
    "    return integral"
   ]
  },
  {
   "cell_type": "markdown",
   "metadata": {},
   "source": [
    "Testing our function again, we’ll calculate $\\int_0^{\\pi/2}\\cos(x)\\,\\mathrm{d}x = 1$."
   ]
  },
  {
   "cell_type": "code",
   "execution_count": 20,
   "metadata": {},
   "outputs": [
    {
     "name": "stdout",
     "output_type": "stream",
     "text": [
      "0.8396374757809344\n"
     ]
    }
   ],
   "source": [
    "x = linspace(0, 1, 100)\n",
    "y = cos(x)\n",
    "print(simpson(y, x[1] - x[0]))"
   ]
  },
  {
   "cell_type": "markdown",
   "metadata": {},
   "source": [
    "**Repeating the loop from above, again reporting the error at each step size.**"
   ]
  },
  {
   "cell_type": "code",
   "execution_count": 21,
   "metadata": {},
   "outputs": [
    {
     "name": "stdout",
     "output_type": "stream",
     "text": [
      "1.0000033922209006\n",
      "1.0000000003382359\n",
      "1.000000000000032\n",
      "0.999999999999999\n",
      "1.0000000000000009\n",
      "1.0000000000000262\n",
      "1.0000000000000642\n"
     ]
    },
    {
     "data": {
      "text/plain": [
       "[3.3922209006220783e-06,\n",
       " 3.3823588374559677e-10,\n",
       " 3.197442310920451e-14,\n",
       " 9.992007221626409e-16,\n",
       " 8.881784197001252e-16,\n",
       " 2.6201263381153694e-14,\n",
       " 6.417089082333405e-14]"
      ]
     },
     "execution_count": 21,
     "metadata": {},
     "output_type": "execute_result"
    }
   ],
   "source": [
    "err_simp = []\n",
    "\n",
    "for N in (logspace(1,7,7)+1).astype(int):\n",
    "    x = linspace(0, pi/2, N)\n",
    "    y = cos(x)\n",
    "    err_simp.append(abs(1-simpson(y, x[1] - x[0])))\n",
    "    print(simpson(y, x[1] - x[0]))\n",
    "\n",
    "err_simp\n",
    "# As you can see, simpson's method is accurate"
   ]
  },
  {
   "cell_type": "markdown",
   "metadata": {},
   "source": [
    "**Plotting on the same log-log axes the error against the step size for these two algorithms.**"
   ]
  },
  {
   "cell_type": "code",
   "execution_count": 22,
   "metadata": {},
   "outputs": [
    {
     "data": {
      "text/plain": [
       "[<matplotlib.lines.Line2D at 0x1c77f8039a0>]"
      ]
     },
     "execution_count": 22,
     "metadata": {},
     "output_type": "execute_result"
    },
    {
     "data": {
      "image/png": "[encoded data removed]",
      "text/plain": [
       "<Figure size 432x288 with 1 Axes>"
      ]
     },
     "metadata": {
      "needs_background": "light"
     },
     "output_type": "display_data"
    }
   ],
   "source": [
    "step_size = [pi/(2*N) for N in logspace(1,7,7)+1]\n",
    "\n",
    "%matplotlib inline\n",
    "from pylab import loglog, xlabel, ylabel, title, legend, figure\n",
    "from matplotlib import pyplot as plt\n",
    "figure()\n",
    "loglog(step_size,err_trap)\n",
    "loglog(step_size,err_simp)"
   ]
  },
  {
   "cell_type": "markdown",
   "metadata": {},
   "source": [
    "**Lets try the integral**\n",
    "$$\n",
    "\\int_0^1 \\exp(-x)\\,\\mathrm{d}x = 1 - e^{-1}.\n",
    "$$\n"
   ]
  },
  {
   "cell_type": "code",
   "execution_count": 23,
   "metadata": {},
   "outputs": [
    {
     "name": "stdout",
     "output_type": "stream",
     "text": [
      "0.6321209095890152\n",
      "0.6321205588636751\n",
      "0.6321205588285606\n",
      "0.6321205588285566\n",
      "0.6321205588285519\n",
      "0.6321205588285626\n",
      "0.6321205588285542\n",
      "[3.5076045756810004e-07, 3.5117464491918327e-11, 2.886579864025407e-15, 1.1102230246251565e-15, 5.773159728050814e-15, 4.884981308350689e-15, 3.4416913763379853e-15]\n"
     ]
    },
    {
     "data": {
      "text/plain": [
       "Text(0, 0.5, 'Error')"
      ]
     },
     "execution_count": 23,
     "metadata": {},
     "output_type": "execute_result"
    },
    {
     "data": {
      "image/png": "[encoded data removed]",
      "text/plain": [
       "<Figure size 432x288 with 1 Axes>"
      ]
     },
     "metadata": {
      "needs_background": "light"
     },
     "output_type": "display_data"
    }
   ],
   "source": [
    "err_simp2 = []\n",
    "\n",
    "for N in (logspace(1,7,7)+1).astype(int):\n",
    "    x = linspace(0, 1, N)\n",
    "    y = exp(-x)\n",
    "    err_simp2.append(abs((1-exp(-1))-simpson(y, x[1] - x[0])))\n",
    "    print(simpson(y, x[1] - x[0]))\n",
    "\n",
    "print(err_simp2)\n",
    "\n",
    "%matplotlib inline\n",
    "from pylab import loglog, xlabel, ylabel, title, legend, figure\n",
    "from matplotlib import pyplot as plt\n",
    "figure()\n",
    "loglog(step_size, err_simp2)\n",
    "plt.xlabel('Step Size')\n",
    "plt.ylabel('Error')"
   ]
  },
  {
   "cell_type": "markdown",
   "metadata": {},
   "source": [
    "## Gaussian quadrature\n",
    "\n",
    "A more sophisticated method is Gaussian quadrature. We will explore this briefly using our own code, but then move to using precompiled Fortran code provided by the `scipy` package to implement this method.\n",
    "\n",
    "For two-point Gaussian quadrature from $a$ to $b$, the $x$ values should be\n",
    "$$\n",
    "x = a + \\left(\\frac12 \\pm \\frac{1}{2\\sqrt{3}}\\right)(b - a)\n",
    "$$\n",
    "each point should have weight $w_i = \\frac12$.\n",
    "\n",
    "**Using two-point Gaussian quadrature to evaluate the same two integrals, $\\int_0^{\\pi/2}\\cos(x)\\,\\mathrm dx$ and $\\int_0^1 \\exp(-x)\\,\\mathrm{d}x$.**"
   ]
  },
  {
   "cell_type": "code",
   "execution_count": 24,
   "metadata": {},
   "outputs": [
    {
     "name": "stdout",
     "output_type": "stream",
     "text": [
      "Integral =  0.9984726134041151 Error in cosx =  0.0015273865958849164\n",
      "Integral =  0.6319787595318455 Error in exp(-x) =  0.00022432318444916592\n"
     ]
    }
   ],
   "source": [
    "def gauss_quad(f, l, u, true_value):\n",
    "    a = l\n",
    "    b = u\n",
    "    w = 0.5\n",
    "    x1 = a + ((0.5 + (1/(2*sqrt(3))))*(b-a))\n",
    "    x2 = a + ((0.5 - (1/(2*sqrt(3))))*(b-a))\n",
    "\n",
    "    sum1 = (b-a)*(w*(f(x1) + f(x2)))\n",
    "    err = abs((sum1 - true_value)/true_value)\n",
    "\n",
    "    return sum1, err\n",
    "\n",
    "def f(x):\n",
    "    return cos(x)\n",
    "\n",
    "def g(x):\n",
    "    return exp(-x)\n",
    "\n",
    "f_sum, f_error = gauss_quad(f, 0, pi/2, 1)\n",
    "g_sum, g_error = gauss_quad(g, 0, 1, (1-exp(-1)))\n",
    "\n",
    "print('Integral = ', f_sum, 'Error in cosx = ', f_error)\n",
    "print('Integral = ', g_sum, 'Error in exp(-x) = ', g_error)"
   ]
  },
  {
   "cell_type": "markdown",
   "metadata": {},
   "source": [
    "**Importing the `quad` function** from the module `scipy.integrate`.\n",
    "\n",
    "**Evaluating the two integrals above once again** and comparing the absolute error to the best values obtained by the methods we've discussed so far; to the estimate provided by `quad` itself; and to the machine epsilon."
   ]
  },
  {
   "cell_type": "code",
   "execution_count": 25,
   "metadata": {},
   "outputs": [
    {
     "name": "stdout",
     "output_type": "stream",
     "text": [
      "(0.9999999999999999, 1.1102230246251564e-14)\n",
      "(0.0732685394155638, 8.134441943981474e-16)\n"
     ]
    }
   ],
   "source": [
    "from scipy.integrate import quad\n",
    "y = lambda x: cos(x)\n",
    "y2 = lambda x: (x**2)*(np.sin(exp(-x))*np.sin(exp(-x)))\n",
    "print(quad(y, 0, pi/2))\n",
    "print(quad(y2, 0, 1))"
   ]
  },
  {
   "cell_type": "code",
   "execution_count": 26,
   "metadata": {},
   "outputs": [
    {
     "data": {
      "text/plain": [
       "2.220446049250313e-16"
      ]
     },
     "execution_count": 26,
     "metadata": {},
     "output_type": "execute_result"
    }
   ],
   "source": [
    "from sys import float_info\n",
    "float_info.epsilon"
   ]
  }
 ],
 "metadata": {
  "kernelspec": {
   "display_name": "Python 3",
   "language": "python",
   "name": "python3"
  },
  "language_info": {
   "codemirror_mode": {
    "name": "ipython",
    "version": 3
   },
   "file_extension": ".py",
   "mimetype": "text/x-python",
   "name": "python",
   "nbconvert_exporter": "python",
   "pygments_lexer": "ipython3",
   "version": "3.9.9"
  }
 },
 "nbformat": 4,
 "nbformat_minor": 4
}
