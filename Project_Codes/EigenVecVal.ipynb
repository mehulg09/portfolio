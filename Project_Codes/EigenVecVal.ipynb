{
 "cells": [
  {
   "cell_type": "markdown",
   "metadata": {},
   "source": [
    "# Eigenvectors and eigenvalues"
   ]
  },
  {
   "cell_type": "markdown",
   "metadata": {},
   "source": [
    "\n",
    "Here we will see some examples of how matrices are useful in scientific programming: specifically, the important role that the *eigenvectors* and *eigenvalues* of these matrices play. Actually, this sort of analysis is central to disciplines ranging from economics to engineering; right now just considering two examples, from physics and ecology."
   ]
  },
  {
   "cell_type": "code",
   "execution_count": 1,
   "metadata": {},
   "outputs": [],
   "source": [
    "from matplotlib import pyplot as plt\n",
    "from numpy.linalg import eig\n",
    "import numpy as np"
   ]
  },
  {
   "cell_type": "markdown",
   "metadata": {},
   "source": [
    "We can find the eigenvectors and eigenvalues of a matrix together by using the function `eig` from `numpy.linalg`. As a quick reminder of their properties and a test of this function, I will do a simple example and **calculate the eigenvectors and eigenvalues of the matrix below**.\n",
    "\n",
    "$$\\mathbf{M} = \n",
    "\\begin{pmatrix}\n",
    "1 & -2 \\\\ 1 & 4\n",
    "\\end{pmatrix}\n",
    "$$\n"
   ]
  },
  {
   "cell_type": "code",
   "execution_count": 2,
   "metadata": {},
   "outputs": [
    {
     "name": "stdout",
     "output_type": "stream",
     "text": [
      "Eigenvalues =  [2. 3.]\n",
      "First eigenvector =  [-0.89442719  0.4472136 ] Second eigenvector =  [ 0.70710678 -0.70710678]\n"
     ]
    }
   ],
   "source": [
    "test_matrix = eig([[1,-2],[1,4]])\n",
    "print('Eigenvalues = ', test_matrix[0])\n",
    "print('First eigenvector = ', test_matrix[1][:,0], 'Second eigenvector = ', test_matrix[1][:,1])"
   ]
  },
  {
   "cell_type": "markdown",
   "metadata": {},
   "source": [
    "## An ecology example: Leslie matrices\n",
    "\n",
    "An important task in ecology is to study the population of species as a function of time. If a species has different forms or ages (*e.g.*, for butterflies egg, larva, chrysalis, then adult), the number of each form will depend on the number of the *other* forms in the previous time period: eggs will hatch into larvae, while adults lay eggs.\n",
    "\n",
    "To take a concrete example, let's suppose that some animal has a lifespan of four years: the first year as an infant, the second as an adolescent, the third as a young adult, and the fourth as a mature adult. These animals can reproduce after the first year, but reproduction rates are greater for older animals. Only a few infants survive to adolescence, but there is then a greater chance of surviving to young adulthood and a greater chance still of surviving to maturity. This could be described as a Leslie matrix model:\n",
    "\n",
    "$$\n",
    "\\begin{pmatrix}x_1 \\\\ x_2 \\\\ x_3 \\\\ x_4\\end{pmatrix}_{t=1} = \n",
    "\\begin{pmatrix} 0 & 4 & 20 & 60 \\\\ 0.05 & 0 & 0 & 0 \\\\ 0 & 0.3 & 0 & 0 \\\\ 0 & 0 & 0.6 & 0 \\end{pmatrix}\n",
    "\\begin{pmatrix}x_1 \\\\ x_2 \\\\ x_3 \\\\ x_4\\end{pmatrix}_{t=0}\n",
    "$$\n",
    "\n",
    "where $x_1, \\dots, x_4$ represent the population at each stage of the life cycle, and the square matrix is the Leslie matrix itself.\n",
    "\n",
    "**I will represent this matrix.** If the initial populations are $x_1 = 500, x_2 = 50, x_3 = 6, x_4 = 3$, **and calculating the populations after 1 year.**"
   ]
  },
  {
   "cell_type": "code",
   "execution_count": 3,
   "metadata": {},
   "outputs": [
    {
     "data": {
      "text/plain": [
       "array([500. ,  25. ,  15. ,   3.6])"
      ]
     },
     "execution_count": 3,
     "metadata": {},
     "output_type": "execute_result"
    }
   ],
   "source": [
    "matrix = np.array([[0, 4, 20, 60], [0.05, 0, 0, 0], [0, 0.3, 0, 0], [0, 0, 0.6, 0]])\n",
    "matrix.dot(np.array([500, 50, 6, 3]))"
   ]
  },
  {
   "cell_type": "markdown",
   "metadata": {},
   "source": [
    "**Plotting  the population of each life stage as a function of time for 20 years.**"
   ]
  },
  {
   "cell_type": "code",
   "execution_count": 4,
   "metadata": {},
   "outputs": [
    {
     "data": {
      "text/plain": [
       "Text(0, 0.5, 'Population')"
      ]
     },
     "execution_count": 4,
     "metadata": {},
     "output_type": "execute_result"
    },
    {
     "data": {
      "image/png": "[encoded data removed]",
      "text/plain": [
       "<Figure size 432x288 with 1 Axes>"
      ]
     },
     "metadata": {
      "needs_background": "light"
     },
     "output_type": "display_data"
    }
   ],
   "source": [
    "x1, x2, x3, x4 = 500, 50, 6, 3\n",
    "matrix = np.array([[0, 4, 20, 60], [0.05, 0, 0, 0], [0, 0.3, 0, 0], [0, 0, 0.6, 0]])\n",
    "years = list(np.arange(0,21,1))\n",
    "\n",
    "X1 = []\n",
    "X2 = []\n",
    "X3 = []\n",
    "X4 = []\n",
    "\n",
    "\n",
    "for i in np.arange(0,21,1):\n",
    "    X1.append(x1)\n",
    "    X2.append(x2)\n",
    "    X3.append(x3)\n",
    "    X4.append(x4)\n",
    "\n",
    "    x1, x2, x3, x4 = matrix.dot(np.array([x1, x2, x3, x4]))\n",
    "\n",
    "plt.plot(years, X1)\n",
    "plt.plot(years, X2)\n",
    "plt.plot(years, X3)\n",
    "plt.plot(years, X4)\n",
    "plt.xlabel('Years')\n",
    "plt.ylabel('Population')"
   ]
  },
  {
   "cell_type": "markdown",
   "metadata": {},
   "source": [
    "To analyse the long-term prognosis for this population, we turn to the eigenvalues of the Leslie matrix. The dominant eigenvalue that determines the population in the long term will be the one with the greatest magnitude. If its magnitude is greater than 1, there will be exponential growth, but if it is less than one then this will become exponential decay.\n",
    "\n",
    "**Calculating dominant eigenvalue**"
   ]
  },
  {
   "cell_type": "code",
   "execution_count": 5,
   "metadata": {},
   "outputs": [
    {
     "name": "stdout",
     "output_type": "stream",
     "text": [
      "eigenvector responsible for growth =  1.011871479428346\n"
     ]
    }
   ],
   "source": [
    "matrix = np.array([[0, 4, 20, 60], [0.05, 0, 0, 0], [0, 0.3, 0, 0], [0, 0, 0.6, 0]])\n",
    "a = eig(matrix)\n",
    "print('eigenvector responsible for growth = ', abs(a[0][0]))"
   ]
  },
  {
   "cell_type": "markdown",
   "metadata": {},
   "source": [
    "The eigenvectors are orthonormal and have a norm =1.  The individual components indicate the fraction of the population in each group (e.g., infant, adolescent, young adult, mature adult).\n",
    "\n",
    "**Long-term population distribution** – that is, for every mature adult, how many young adults, adolescents, and juveniles would you expect?"
   ]
  },
  {
   "cell_type": "code",
   "execution_count": 6,
   "metadata": {},
   "outputs": [
    {
     "data": {
      "text/plain": [
       "array([633.10698607,  63.31069861,   7.59728383,   3.79864192])"
      ]
     },
     "execution_count": 6,
     "metadata": {},
     "output_type": "execute_result"
    }
   ],
   "source": [
    "((1.011871479428346)**20)*np.array([500, 50, 6, 3])"
   ]
  },
  {
   "cell_type": "markdown",
   "metadata": {},
   "source": [
    "**Plotting a graph of the dominant eigenvalue as a function of the infant survival rate** (*i.e.*, the `[1,0]` element of the Leslie matrix) **over a range just below its initial value of 0.05."
   ]
  },
  {
   "cell_type": "code",
   "execution_count": 7,
   "metadata": {},
   "outputs": [
    {
     "name": "stderr",
     "output_type": "stream",
     "text": [
      "C:\\Users\\mehul\\AppData\\Local\\Packages\\PythonSoftwareFoundation.Python.3.9_qbz5n2kfra8p0\\LocalCache\\local-packages\\Python39\\site-packages\\numpy\\core\\_asarray.py:102: ComplexWarning: Casting complex values to real discards the imaginary part\n",
      "  return array(a, dtype, copy=False, order=order)\n"
     ]
    },
    {
     "data": {
      "text/plain": [
       "Text(0.5, 0, 'infant survival rate')"
      ]
     },
     "execution_count": 7,
     "metadata": {},
     "output_type": "execute_result"
    },
    {
     "data": {
      "image/png": "[encoded data removed]",
      "text/plain": [
       "<Figure size 432x288 with 1 Axes>"
      ]
     },
     "metadata": {
      "needs_background": "light"
     },
     "output_type": "display_data"
    }
   ],
   "source": [
    "dominant_eig = []\n",
    "infant_rate = np.linspace(0, 0.1, 1000)\n",
    "\n",
    "for i in infant_rate:\n",
    "    matrix = np.array([[0, 4, 20, 60], [i, 0, 0, 0], [0, 0.3, 0, 0], [0, 0, 0.6, 0]])\n",
    "    a = eig(matrix)\n",
    "    dominant_eig.append(a[0].max())\n",
    "\n",
    "plt.plot(infant_rate, dominant_eig)\n",
    "plt.grid()\n",
    "plt.ylabel('Dominant eigenvalue')\n",
    "plt.xlabel('infant survival rate')"
   ]
  },
  {
   "cell_type": "markdown",
   "metadata": {},
   "source": [
    "**As you can see above, if the infant survival rate is below aprrox 0.045 then they will go extinct!**"
   ]
  },
  {
   "attachments": {
    "co2.png": {
     "image/png": "[encoded data removed]"
    }
   },
   "cell_type": "markdown",
   "metadata": {},
   "source": [
    "## A physics example: normal modes of vibrating molecules\n",
    "\n",
    "When the force on some object depends linearly on the positions of *other* objects, we can write the equations of motion as a single matrix equation. This is very often the case for the motion of chemically bonded atoms. For instance, consider a molecule of carbon dioxide:\n",
    "\n",
    "![co2.png](attachment:co2.png)\n",
    "\n",
    "As the diagram suggests, we model this as three point masses connected by ideal springs. The C atom has mass $m$, the O atoms mass $M$, and the bonds have spring constant $J$. Then the equations of motion are\n",
    "\n",
    "$$\n",
    "\\begin{align*}\n",
    "M\\ddot{x}_1 &= -J(x_1 - x_2) \\\\\n",
    "m\\ddot{x}_2 &= -J(x_2 - x_1) - J(x_2 - x_3)\\\\\n",
    "M\\ddot{x}_3 &= -J(x_3 - x_2) \\\\\n",
    "\\end{align*}\n",
    "$$\n",
    "\n",
    "Let's write this as a matrix equation, $\\ddot{\\mathbf{x}} = -\\mathbf{A}\\mathbf{x}$. Then, if $\\mathbf{x}$ is an eigenvector of $\\mathbf{A}$ with positive eigenvalue $\\lambda$, $\\ddot{\\mathbf{x}} = -\\mathbf{A}\\mathbf{x} = -\\lambda\\mathbf{x}$ and we have the equation for simple harmonic motion with frequency $\\sqrt{\\lambda}$.\n",
    "\n",
    "**Finding $\\mathbf{A}$ and its eigenvectors and eigenvalues.** The atomic mass of the oxygen atom is $M = 16$ and the atomic mass of the carbon atom is $m = 12$.  However, the equations are simpler if we use units of atomic mass of oxygen.  That is, set $M=1$ and $m=12/16$."
   ]
  },
  {
   "cell_type": "code",
   "execution_count": 8,
   "metadata": {
    "scrolled": true
   },
   "outputs": [
    {
     "data": {
      "text/plain": [
       "(array([-3.66666667e+00, -1.00000000e+00, -1.00429348e-16]),\n",
       " array([[-3.31294578e-01, -7.07106781e-01,  5.77350269e-01],\n",
       "        [ 8.83452209e-01, -1.48766011e-16,  5.77350269e-01],\n",
       "        [-3.31294578e-01,  7.07106781e-01,  5.77350269e-01]]))"
      ]
     },
     "execution_count": 8,
     "metadata": {},
     "output_type": "execute_result"
    }
   ],
   "source": [
    "J = 1\n",
    "M = 1\n",
    "m = 12/16\n",
    "\n",
    "# matrix A\n",
    "matrix = np.array([[-J/M, J/M, 0], [J/m, -2*J/m, J/m], [0, J/M, -J/M]])\n",
    "a = eig(matrix)\n",
    "\n",
    "a"
   ]
  },
  {
   "cell_type": "markdown",
   "metadata": {},
   "source": [
    "**Sketching the motion of the atoms corresponding to each of the eigenvectors**"
   ]
  },
  {
   "cell_type": "markdown",
   "metadata": {},
   "source": [
    "[--O-C--+-----O] [---O--C-----O-] [-O-------+--C--O-]"
   ]
  }
 ],
 "metadata": {
  "kernelspec": {
   "display_name": "Python 3",
   "language": "python",
   "name": "python3"
  },
  "language_info": {
   "codemirror_mode": {
    "name": "ipython",
    "version": 3
   },
   "file_extension": ".py",
   "mimetype": "text/x-python",
   "name": "python",
   "nbconvert_exporter": "python",
   "pygments_lexer": "ipython3",
   "version": "3.9.9"
  }
 },
 "nbformat": 4,
 "nbformat_minor": 4
}
