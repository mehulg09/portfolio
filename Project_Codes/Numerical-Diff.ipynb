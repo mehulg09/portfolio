{
 "cells": [
  {
   "cell_type": "markdown",
   "metadata": {},
   "source": [
    "# Numerical Differentiation"
   ]
  },
  {
   "cell_type": "markdown",
   "metadata": {},
   "source": [
    "## Coding the three methods of numerical differentiation\n",
    "\n",
    "The simplest possible algorithm, the *forward difference method*, is very similar to the definition of differentiation:\n",
    "\n",
    "$$\n",
    "f'(x) = \\lim_{x\\rightarrow 0}\\frac{f(x + h) - f(x)}{h}.\n",
    "$$\n",
    "\n",
    "We simply choose a small step $h$ and write\n",
    "\n",
    "$$\n",
    "f'(x, h)_\\text{FD} = \\frac{f(x + h) - f(x)}{h}.\n",
    "$$\n",
    "\n",
    "**Writing a function `FD(f, x, h)` to return the derivative of some function `f` at `x` using a step size of `h`.**\n"
   ]
  },
  {
   "cell_type": "code",
   "execution_count": 18,
   "metadata": {},
   "outputs": [],
   "source": [
    "def FD(f, x, h):\n",
    "    f2 = (f(x+h) - f(x))/h\n",
    "    return f2"
   ]
  },
  {
   "cell_type": "markdown",
   "metadata": {},
   "source": [
    "Checking my function with the cosine at $x = 0$ and various step sizes"
   ]
  },
  {
   "cell_type": "code",
   "execution_count": 19,
   "metadata": {},
   "outputs": [
    {
     "name": "stdout",
     "output_type": "stream",
     "text": [
      "-0.049958347219741794\n",
      "-0.0004999999583255033\n",
      "-5.000000413701855e-06\n",
      "-4.9960036108132044e-08\n"
     ]
    }
   ],
   "source": [
    "import numpy as np\n",
    "\n",
    "# true value = 0\n",
    "print(FD(lambda x: np.cos(x), 0, 0.1))\n",
    "print(FD(lambda x: np.cos(x), 0, 0.001))\n",
    "print(FD(lambda x: np.cos(x), 0, 0.00001))\n",
    "print(FD(lambda x: np.cos(x), 0, 0.0000001))"
   ]
  },
  {
   "cell_type": "markdown",
   "metadata": {},
   "source": [
    "A more sophisticated algorithm is the *central difference* method, which eliminates first-order error, so that the error is proportional to $h^2$ rather than $h$. Recall that this method sets\n",
    "\n",
    "$$\n",
    "f'(x, h)_\\text{CD} = \\frac{f(x + \\tfrac12h) - f(x - \\tfrac12h)}{h}.\n",
    "$$\n",
    "\n",
    "**Writing a function `CD(f, x, h)` in the same way.**"
   ]
  },
  {
   "cell_type": "code",
   "execution_count": 20,
   "metadata": {},
   "outputs": [
    {
     "name": "stdout",
     "output_type": "stream",
     "text": [
      "0.0\n",
      "0.0\n",
      "0.0\n",
      "0.0\n"
     ]
    }
   ],
   "source": [
    "def CD(f, x, h):\n",
    "    f3 = (f(x+0.5*h) - f(x-0.5*h))/h\n",
    "    return f3\n",
    "\n",
    "# true value = 0, as you can see this method is more accurate\n",
    "print(CD(lambda x: np.cos(x), 0, 0.1))\n",
    "print(CD(lambda x: np.cos(x), 0, 0.001))\n",
    "print(CD(lambda x: np.cos(x), 0, 0.00001))\n",
    "print(CD(lambda x: np.cos(x), 0, 0.0000001))"
   ]
  },
  {
   "cell_type": "markdown",
   "metadata": {},
   "source": [
    "The final method is the *extrapolated difference* method, in which we combine two iterations of the central difference algorithm to give error proportional to $h^4$:\n",
    "\n",
    "$$\n",
    "f'(x, h)_\\text{ED} = \\tfrac13\\big(4f'(x, \\tfrac12h)_\\text{CD} - f'(x, h)_\\text{CD}\\big).\n",
    "$$\n",
    "\n",
    "**Writing a function `ED(f, x, h)` to use this method.**"
   ]
  },
  {
   "cell_type": "code",
   "execution_count": 21,
   "metadata": {},
   "outputs": [],
   "source": [
    "def ED(f, x, h):\n",
    "    f4 = 1/3*(4*CD(f, x, h/2) - CD(f, x, h))\n",
    "    return f4"
   ]
  },
  {
   "cell_type": "code",
   "execution_count": 22,
   "metadata": {},
   "outputs": [
    {
     "name": "stdout",
     "output_type": "stream",
     "text": [
      "0.0\n"
     ]
    }
   ],
   "source": [
    "# even accurate then central difference method\n",
    "print(ED(lambda x: np.cos(x), 0, 0.5))"
   ]
  },
  {
   "cell_type": "markdown",
   "metadata": {},
   "source": [
    "## Testing the algorithms\n",
    "\n",
    "Let's test these three algorithms using functions that are easy to differentiate by hand. Specifically, we'll differentiate the functions $\\cos(x)$ at $x = 0.1$.  \n",
    "\n",
    "I will then calculate and print out the relative error $\\epsilon$, where\n",
    "$$\n",
    "\\epsilon = \\frac{f'(x)_\\text{calculated} - f'(x)_\\text{exact}}{f'(x)_\\text{exact}},\n",
    "$$\n",
    "and finally plot $|\\epsilon|$ against $h$ on a log-log plot."
   ]
  },
  {
   "cell_type": "code",
   "execution_count": 23,
   "metadata": {},
   "outputs": [
    {
     "name": "stdout",
     "output_type": "stream",
     "text": [
      "1e-01 fd_estimate =  -0.295028 fd_error =   0.096359\n",
      "1e-01 cd_estimate =  -0.198338 cd_error =  -0.000331\n",
      "1e-01 ed_estimate =  -0.198669 ed_error =  -0.000000\n",
      "1e-02 fd_estimate =  -0.208456 fd_error =   0.009787\n",
      "1e-02 cd_estimate =  -0.198666 cd_error =  -0.000003\n",
      "1e-02 ed_estimate =  -0.198669 ed_error =  -0.000000\n",
      "1e-03 fd_estimate =  -0.199649 fd_error =   0.000980\n",
      "1e-03 cd_estimate =  -0.198669 cd_error =  -0.000000\n",
      "1e-03 ed_estimate =  -0.198669 ed_error =  -0.000000\n",
      "1e-04 fd_estimate =  -0.198767 fd_error =   0.000098\n",
      "1e-04 cd_estimate =  -0.198669 cd_error =  -0.000000\n",
      "1e-04 ed_estimate =  -0.198669 ed_error =  -0.000000\n",
      "1e-05 fd_estimate =  -0.198679 fd_error =   0.000010\n",
      "1e-05 cd_estimate =  -0.198669 cd_error =  -0.000000\n",
      "1e-05 ed_estimate =  -0.198669 ed_error =  -0.000000\n",
      "1e-06 fd_estimate =  -0.198670 fd_error =   0.000001\n",
      "1e-06 cd_estimate =  -0.198669 cd_error =  -0.000000\n",
      "1e-06 ed_estimate =  -0.198669 ed_error =  -0.000000\n",
      "1e-07 fd_estimate =  -0.198669 fd_error =   0.000000\n",
      "1e-07 cd_estimate =  -0.198669 cd_error =   0.000000\n",
      "1e-07 ed_estimate =  -0.198669 ed_error =  -0.000000\n",
      "1e-08 fd_estimate =  -0.198669 fd_error =   0.000000\n",
      "1e-08 cd_estimate =  -0.198669 cd_error =  -0.000000\n",
      "1e-08 ed_estimate =  -0.198669 ed_error =  -0.000000\n",
      "1e-09 fd_estimate =  -0.198669 fd_error =   0.000000\n",
      "1e-09 cd_estimate =  -0.198669 cd_error =  -0.000000\n",
      "1e-09 ed_estimate =  -0.198669 ed_error =  -0.000000\n",
      "1e-10 fd_estimate =  -0.198670 fd_error =   0.000001\n",
      "1e-10 cd_estimate =  -0.198668 cd_error =  -0.000002\n",
      "1e-10 ed_estimate =  -0.198668 ed_error =  -0.000002\n",
      "1e-11 fd_estimate =  -0.198686 fd_error =   0.000016\n",
      "1e-11 cd_estimate =  -0.198686 cd_error =   0.000016\n",
      "1e-11 ed_estimate =  -0.198745 ed_error =   0.000075\n",
      "1e-12 fd_estimate =  -0.198841 fd_error =   0.000172\n",
      "1e-12 cd_estimate =  -0.198730 cd_error =   0.000061\n",
      "1e-12 ed_estimate =  -0.198434 ed_error =  -0.000235\n",
      "1e-13 fd_estimate =  -0.198730 fd_error =   0.000061\n",
      "1e-13 cd_estimate =  -0.197620 cd_error =  -0.001050\n",
      "1e-13 ed_estimate =  -0.200580 ed_error =   0.001911\n",
      "1e-14 fd_estimate =  -0.199840 fd_error =   0.001171\n",
      "1e-14 cd_estimate =  -0.199840 cd_error =   0.001171\n",
      "1e-14 ed_estimate =  -0.229446 ed_error =   0.030777\n",
      "1e-15 fd_estimate =  -0.222045 fd_error =   0.023375\n",
      "1e-15 cd_estimate =  -0.222045 cd_error =   0.023375\n",
      "1e-15 ed_estimate =  -0.518104 ed_error =   0.319435\n",
      "1e-16 fd_estimate =  -2.220446 fd_error =   2.021777\n",
      "1e-16 cd_estimate =  -2.220446 cd_error =   2.021777\n",
      "1e-16 ed_estimate =  -5.181041 ed_error =   4.982371\n",
      "1e-17 fd_estimate = -22.204460 fd_error =  22.005791\n",
      "1e-17 cd_estimate =   0.000000 cd_error =  -0.198669\n",
      "1e-17 ed_estimate =   0.000000 ed_error =  -0.198669\n"
     ]
    },
    {
     "data": {
      "text/plain": [
       "<matplotlib.legend.Legend at 0x1a84b210880>"
      ]
     },
     "execution_count": 23,
     "metadata": {},
     "output_type": "execute_result"
    },
    {
     "data": {
      "image/png": "[encoded data removed]",
      "text/plain": [
       "<Figure size 432x288 with 1 Axes>"
      ]
     },
     "metadata": {
      "needs_background": "light"
     },
     "output_type": "display_data"
    }
   ],
   "source": [
    "import numpy as np\n",
    "from numpy import cos, sin, exp, logspace\n",
    "from matplotlib.pyplot import loglog, xlabel, ylabel, title, legend\n",
    "%matplotlib inline\n",
    "\n",
    "# test function = (np.cos)**2\n",
    "x0 = 0.1       # we evaluate this function at 0.1\n",
    "fx0p = -2*cos(0.1)*sin(0.1)#cos(0.1)     # true value of the derivative of test function at x0 here\n",
    "\n",
    "hh = logspace(-1, -17, 17) # same syntax as linspace: this gives us a range from 10^-1 to 10^-17 with 17 points.\n",
    "\n",
    "fd_errors = []\n",
    "cd_errors = []\n",
    "ed_errors = []\n",
    "\n",
    "for h in hh:\n",
    "    # All three methods to calculate derivitive of cosx at 0.1 using various step sizes\n",
    "    fd_estimate = FD(lambda x: np.cos(x)*np.cos(x), x0, h)\n",
    "    cd_estimate = CD(lambda x: np.cos(x)*np.cos(x), x0, h)\n",
    "    ed_estimate = ED(lambda x: np.cos(x)*np.cos(x), x0, h)\n",
    "    \n",
    "    # calculating epsilon for all methods here.\n",
    "    fd_error = fx0p - fd_estimate\n",
    "    cd_error = fx0p - cd_estimate\n",
    "    ed_error = fx0p - ed_estimate\n",
    "\n",
    "    print(\"{:5.0e} fd_estimate = {:10.6f} fd_error = {:10.6f}\".format(h, fd_estimate, fd_error))\n",
    "    print(\"{:5.0e} cd_estimate = {:10.6f} cd_error = {:10.6f}\".format(h, cd_estimate, cd_error))\n",
    "    print(\"{:5.0e} ed_estimate = {:10.6f} ed_error = {:10.6f}\".format(h, ed_estimate, ed_error))\n",
    "\n",
    "     # We append the absolute value of epsilon to our list of errors.\n",
    "    fd_errors.append(abs(fd_error))\n",
    "    cd_errors.append(abs(cd_error))\n",
    "    ed_errors.append(abs(ed_error))\n",
    "\n",
    "loglog(hh, fd_errors, 'o-', label=\"FD\")\n",
    "loglog(hh, cd_errors, 'o-', label=\"CD\")\n",
    "loglog(hh, ed_errors, 'o-', label=\"ED\")\n",
    "xlabel('step size $h$')\n",
    "ylabel('absolute error $|\\epsilon|$')\n",
    "title('Numerical Differentiation')\n",
    "legend()"
   ]
  },
  {
   "cell_type": "code",
   "execution_count": 24,
   "metadata": {},
   "outputs": [
    {
     "name": "stdout",
     "output_type": "stream",
     "text": [
      "error for very small h=  -0.09874925857879716\n",
      "error for large enough h=  -0.0988359003836389\n"
     ]
    }
   ],
   "source": [
    "fd_estimate = FD(lambda x: np.cos(x), x0, h = 1e-14)\n",
    "fd_error = fx0p - fd_estimate\n",
    "print('error for very small h= ', fd_error)\n",
    "\n",
    "fd_estimate = FD(lambda x: np.cos(x), x0, h = 1e-8)\n",
    "fd_error = fx0p - fd_estimate\n",
    "print('error for large enough h= ', fd_error)"
   ]
  },
  {
   "cell_type": "markdown",
   "metadata": {},
   "source": [
    "## Types of error\n",
    "There are two main types of error associted in numerical solutions here. There are errors associated with the approximate relation of the method to calculate the derivatives.  These algorithmic errors depend on the nature of the approximation and generally get smaller as the step size ($h$) decreases.\n",
    "\n",
    "There are also errors from subtractive cancellation that result from taking the differences between floating point numbers. These fractional errors typically grow when the two numbers being subtracted from each other are nearly equal.  Clearly this is the case when computing derivatives.\n",
    "\n",
    "You can get an approximate sense of how subtractive cancellation as a function of $h$ by examining the following function numerically,\n",
    "$$\n",
    "sc(h) = (1.+h) - 1.\n",
    "$$\n",
    "Clearly the mathematical answer is $h$.  However, when computing this numerically we get substantial cancellation errors when $h$ is much smaller than the number we are adding it to; or equivalently when the two numbers being subracted are very similar in value.\n",
    "\n",
    "An example is included below.\n",
    "\n"
   ]
  },
  {
   "cell_type": "code",
   "execution_count": 25,
   "metadata": {},
   "outputs": [
    {
     "data": {
      "text/plain": [
       "8.226659269441623e-11"
      ]
     },
     "execution_count": 25,
     "metadata": {},
     "output_type": "execute_result"
    }
   ],
   "source": [
    "h = 1.e-6\n",
    "(h - (1+h-1))/h   # fractional error"
   ]
  },
  {
   "cell_type": "markdown",
   "metadata": {},
   "source": [
    "Computing and plotting the approximate scaling of the fractional error due to subtractive cancellation by using the following\n",
    "$$\n",
    "\\mbox{Fractional Error} = \\left| \\frac{h - (1+h-1)}{h} \\right|.\n",
    "$$"
   ]
  },
  {
   "cell_type": "code",
   "execution_count": 26,
   "metadata": {},
   "outputs": [
    {
     "name": "stdout",
     "output_type": "stream",
     "text": [
      "1e-01 8.3266726846886741e-16 \n",
      "1e-02 8.6736173798840355e-16 \n",
      "1e-03 1.1015494072452725e-13 \n",
      "1e-04 1.1018204577883939e-13 \n",
      "1e-05 6.5511222206542089e-12 \n",
      "1e-06 8.2266592694416225e-11 \n",
      "1e-07 5.8386722208067770e-10 \n",
      "1e-08 6.0774709918447105e-09 \n",
      "1e-09 8.2740370936808782e-08 \n",
      "1e-10 8.2740370962658176e-08 \n",
      "1e-11 8.2740371059593408e-08 \n",
      "1e-12 8.8900582341031726e-05 \n",
      "1e-13 7.9927783735914398e-04 \n",
      "1e-14 7.9927783735911243e-04 \n",
      "1e-15 1.1022302462515646e-01 \n",
      "1e-16 1.0000000000000000e+00 \n",
      "1e-17 1.0000000000000000e+00 \n"
     ]
    },
    {
     "data": {
      "text/plain": [
       "<matplotlib.legend.Legend at 0x1a84adbebb0>"
      ]
     },
     "execution_count": 26,
     "metadata": {},
     "output_type": "execute_result"
    },
    {
     "data": {
      "image/png": "[encoded data removed]",
      "text/plain": [
       "<Figure size 432x288 with 1 Axes>"
      ]
     },
     "metadata": {
      "needs_background": "light"
     },
     "output_type": "display_data"
    }
   ],
   "source": [
    "hh = logspace(-1, -17, 17)\n",
    "\n",
    "sc_errors = []  # subtractive cancellation fractional error\n",
    "\n",
    "for h in hh:\n",
    "    sc_error = abs((h-(1+h-1))/h)    # expression for fractional error due to subtractive cancellation\n",
    "    print(\"{:5.0e} {:>21.16e} \".format(h, sc_error))\n",
    "    sc_errors.append(abs(sc_error))\n",
    "\n",
    "loglog(hh, sc_errors, 'o-', label=\"Subtractive Cancellation\")\n",
    "xlabel('step size $h$')\n",
    "ylabel('Fractional Error')\n",
    "title('Fractional Subtractive Cancellation Error vs Step size')\n",
    "legend()"
   ]
  }
 ],
 "metadata": {
  "kernelspec": {
   "display_name": "Python 3",
   "language": "python",
   "name": "python3"
  },
  "language_info": {
   "codemirror_mode": {
    "name": "ipython",
    "version": 3
   },
   "file_extension": ".py",
   "mimetype": "text/x-python",
   "name": "python",
   "nbconvert_exporter": "python",
   "pygments_lexer": "ipython3",
   "version": "3.9.9"
  }
 },
 "nbformat": 4,
 "nbformat_minor": 4
}
